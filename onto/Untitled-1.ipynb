{
 "cells": [
  {
   "cell_type": "code",
   "execution_count": null,
   "id": "58ee3914",
   "metadata": {},
   "outputs": [
    {
     "name": "stdout",
     "output_type": "stream",
     "text": [
      "        Destination Accommodation type Accommodation cost Transportation type  \\\n",
      "0        London, UK              Hotel               1200              Flight   \n",
      "1  Phuket, Thailand             Resort                800              Flight   \n",
      "2   Bali, Indonesia              Villa               1000              Flight   \n",
      "3     New York, USA              Hotel               2000              Flight   \n",
      "4      Tokyo, Japan             Airbnb                700               Train   \n",
      "\n",
      "  Transportation cost Country    Category      Country  Cost of Living Index  \\\n",
      "0                 600   India      Nature  Switzerland                 101.1   \n",
      "1                 500     USA  Historical      Bahamas                  85.0   \n",
      "2                 700  Brazil      Nature      Iceland                  83.0   \n",
      "3                1000  Brazil  Historical    Singapore                  76.7   \n",
      "4                 200  France    Cultural     Barbados                  76.6   \n",
      "\n",
      "   Rent Index  Cost of Living Plus Rent Index  Groceries Index  \\\n",
      "0        46.5                            74.9            109.1   \n",
      "1        36.7                            61.8             81.6   \n",
      "2        39.2                            62.0             88.4   \n",
      "3        67.2                            72.1             74.6   \n",
      "4        19.0                            48.9             80.8   \n",
      "\n",
      "   Restaurant Price Index  Local Purchasing Power Index  \n",
      "0                    97.0                         158.7  \n",
      "1                    83.3                          54.6  \n",
      "2                    86.8                         120.3  \n",
      "3                    50.4                         111.1  \n",
      "4                    69.4                          43.5  \n"
     ]
    }
   ],
   "source": [
    "import pandas as pd\n",
    "\n",
    "# Reading a CSV file into a DataFrame\n",
    "travel_details = pd.read_csv('Travel details dataset.csv')\n",
    "#print(travel_details.head(10))\n",
    "\n",
    "tourism_df = pd.read_csv('tourism_dataset.csv')\n",
    "#print(tourism_df.head(10))\n",
    "\n",
    "cost_of_living_df = pd.read_csv('Cost_of_Living_Index_by_Country_2024.csv')\n",
    "# print(cost_of_living_df.head(10))\n",
    "\n",
    "df1_partial = travel_details[[\"Destination\", \"Accommodation type\", \"Accommodation cost\", \"Transportation type\", \"Transportation cost\"]]\n",
    "df2_partial = tourism_df[[\"Country\", \"Category\"]]\n",
    "df3_partial = cost_of_living_df.drop(columns=[\"Rank\"])\n",
    "\n",
    "\n",
    "df_final = pd.concat([df1_partial, df2_partial, df3_partial], axis=1)\n",
    "df_final.to_csv(\"dataset_combinat.csv\", index=False)\n"
   ]
  },
  {
   "cell_type": "code",
   "execution_count": null,
   "id": "482147cb",
   "metadata": {},
   "outputs": [
    {
     "name": "stdout",
     "output_type": "stream",
     "text": [
      "(133, 14)\n",
      "1\n",
      "0\n"
     ]
    }
   ],
   "source": [
    "import pandas as pd\n",
    "\n",
    "df_EUR = pd.read_csv(\"dataset_combinat.csv\")\n",
    "# print(df_EUR.index[:150])\n",
    "\n",
    "df_EUR = df_EUR.dropna(subset=['City']) \n",
    "\n",
    "\n",
    "print(df_EUR.shape)\n",
    "\n",
    "print(df_EUR['City'].duplicated().sum())\n",
    "df_EUR = df_EUR.drop_duplicates(subset='City', keep='first')\n",
    "print(df_EUR['City'].duplicated().sum())\n",
    "\n",
    "df_EUR.to_csv(\"dataset_tourism.csv\", index=False)"
   ]
  }
 ],
 "metadata": {
  "kernelspec": {
   "display_name": "Python 3",
   "language": "python",
   "name": "python3"
  },
  "language_info": {
   "codemirror_mode": {
    "name": "ipython",
    "version": 3
   },
   "file_extension": ".py",
   "mimetype": "text/x-python",
   "name": "python",
   "nbconvert_exporter": "python",
   "pygments_lexer": "ipython3",
   "version": "3.12.2"
  }
 },
 "nbformat": 4,
 "nbformat_minor": 5
}
